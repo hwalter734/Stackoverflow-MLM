{
 "cells": [
  {
   "cell_type": "markdown",
   "metadata": {},
   "source": [
    "# Initial Setup"
   ]
  },
  {
   "cell_type": "code",
   "execution_count": 1,
   "metadata": {},
   "outputs": [],
   "source": [
    "import pandas as pd\n",
    "import matplotlib.pyplot as plt \n",
    "import seaborn as sns\n",
    "import numpy as np\n",
    "\n",
    "%matplotlib inline\n",
    "path = 'C:/Users/hansr/Documents/UFM/A4_S7/Machine_Learning_Models/datasets/mlm_project1_datasets/SO_dataset.csv'"
   ]
  },
  {
   "cell_type": "code",
   "execution_count": 2,
   "metadata": {},
   "outputs": [],
   "source": [
    "so_df = pd.read_csv(path)"
   ]
  },
  {
   "cell_type": "markdown",
   "metadata": {},
   "source": [
    "# Exploratory Data Analysis"
   ]
  },
  {
   "cell_type": "code",
   "execution_count": 3,
   "metadata": {},
   "outputs": [
    {
     "data": {
      "text/html": [
       "<div>\n",
       "<style scoped>\n",
       "    .dataframe tbody tr th:only-of-type {\n",
       "        vertical-align: middle;\n",
       "    }\n",
       "\n",
       "    .dataframe tbody tr th {\n",
       "        vertical-align: top;\n",
       "    }\n",
       "\n",
       "    .dataframe thead th {\n",
       "        text-align: right;\n",
       "    }\n",
       "</style>\n",
       "<table border=\"1\" class=\"dataframe\">\n",
       "  <thead>\n",
       "    <tr style=\"text-align: right;\">\n",
       "      <th></th>\n",
       "      <th>title_length</th>\n",
       "      <th>question_length</th>\n",
       "      <th>accepted_answer_id</th>\n",
       "      <th>question_date</th>\n",
       "      <th>tags</th>\n",
       "      <th>tags_length</th>\n",
       "      <th>view_count</th>\n",
       "      <th>answer_date</th>\n",
       "    </tr>\n",
       "  </thead>\n",
       "  <tbody>\n",
       "    <tr>\n",
       "      <th>0</th>\n",
       "      <td>53</td>\n",
       "      <td>2574</td>\n",
       "      <td>37738104</td>\n",
       "      <td>2016-06-09 20:10:52.550 UTC</td>\n",
       "      <td>google-analytics|drupal-7|google-tag-manager|u...</td>\n",
       "      <td>80</td>\n",
       "      <td>522</td>\n",
       "      <td>2016-06-10 00:13:02.770 UTC</td>\n",
       "    </tr>\n",
       "    <tr>\n",
       "      <th>1</th>\n",
       "      <td>27</td>\n",
       "      <td>535</td>\n",
       "      <td>37442587</td>\n",
       "      <td>2016-05-25 15:36:19.577 UTC</td>\n",
       "      <td>sql-server|ssis|enterprise|sql-server-data-too...</td>\n",
       "      <td>56</td>\n",
       "      <td>42</td>\n",
       "      <td>2016-05-25 16:12:18.980 UTC</td>\n",
       "    </tr>\n",
       "    <tr>\n",
       "      <th>2</th>\n",
       "      <td>87</td>\n",
       "      <td>1946</td>\n",
       "      <td>37550734</td>\n",
       "      <td>2016-05-31 15:36:47.460 UTC</td>\n",
       "      <td>r</td>\n",
       "      <td>1</td>\n",
       "      <td>56</td>\n",
       "      <td>2016-05-31 16:10:38.387 UTC</td>\n",
       "    </tr>\n",
       "    <tr>\n",
       "      <th>3</th>\n",
       "      <td>53</td>\n",
       "      <td>418</td>\n",
       "      <td>37768366</td>\n",
       "      <td>2016-06-11 17:38:54.733 UTC</td>\n",
       "      <td>api|oauth|google-analytics|google-analytics-ap...</td>\n",
       "      <td>73</td>\n",
       "      <td>1361</td>\n",
       "      <td>2016-06-11 20:46:14.160 UTC</td>\n",
       "    </tr>\n",
       "    <tr>\n",
       "      <th>4</th>\n",
       "      <td>57</td>\n",
       "      <td>1250</td>\n",
       "      <td>37594489</td>\n",
       "      <td>2016-05-24 09:32:21.660 UTC</td>\n",
       "      <td>permissions|file-permissions|tomcat8|permissio...</td>\n",
       "      <td>77</td>\n",
       "      <td>2908</td>\n",
       "      <td>2016-06-02 14:17:18.903 UTC</td>\n",
       "    </tr>\n",
       "  </tbody>\n",
       "</table>\n",
       "</div>"
      ],
      "text/plain": [
       "   title_length  question_length  accepted_answer_id  \\\n",
       "0            53             2574            37738104   \n",
       "1            27              535            37442587   \n",
       "2            87             1946            37550734   \n",
       "3            53              418            37768366   \n",
       "4            57             1250            37594489   \n",
       "\n",
       "                 question_date  \\\n",
       "0  2016-06-09 20:10:52.550 UTC   \n",
       "1  2016-05-25 15:36:19.577 UTC   \n",
       "2  2016-05-31 15:36:47.460 UTC   \n",
       "3  2016-06-11 17:38:54.733 UTC   \n",
       "4  2016-05-24 09:32:21.660 UTC   \n",
       "\n",
       "                                                tags  tags_length  view_count  \\\n",
       "0  google-analytics|drupal-7|google-tag-manager|u...           80         522   \n",
       "1  sql-server|ssis|enterprise|sql-server-data-too...           56          42   \n",
       "2                                                  r            1          56   \n",
       "3  api|oauth|google-analytics|google-analytics-ap...           73        1361   \n",
       "4  permissions|file-permissions|tomcat8|permissio...           77        2908   \n",
       "\n",
       "                   answer_date  \n",
       "0  2016-06-10 00:13:02.770 UTC  \n",
       "1  2016-05-25 16:12:18.980 UTC  \n",
       "2  2016-05-31 16:10:38.387 UTC  \n",
       "3  2016-06-11 20:46:14.160 UTC  \n",
       "4  2016-06-02 14:17:18.903 UTC  "
      ]
     },
     "execution_count": 3,
     "metadata": {},
     "output_type": "execute_result"
    }
   ],
   "source": [
    "so_df.head()"
   ]
  },
  {
   "cell_type": "code",
   "execution_count": 4,
   "metadata": {},
   "outputs": [
    {
     "data": {
      "text/plain": [
       "title_length          0\n",
       "question_length       0\n",
       "accepted_answer_id    0\n",
       "question_date         0\n",
       "tags                  0\n",
       "tags_length           0\n",
       "view_count            0\n",
       "answer_date           0\n",
       "dtype: int64"
      ]
     },
     "execution_count": 4,
     "metadata": {},
     "output_type": "execute_result"
    }
   ],
   "source": [
    "so_df.isnull().sum()"
   ]
  },
  {
   "cell_type": "markdown",
   "metadata": {},
   "source": [
    "We are able to see we are handling a good dataset, without any NA values present in any of the columns. Still, there could be presence of outliers in our numeric columns."
   ]
  },
  {
   "cell_type": "markdown",
   "metadata": {},
   "source": [
    "## Calculate days difference between question and answer"
   ]
  },
  {
   "cell_type": "code",
   "execution_count": 5,
   "metadata": {},
   "outputs": [],
   "source": [
    "so_df[['answer_date','question_date']] = so_df[['answer_date','question_date']].apply(pd.to_datetime)\n",
    "so_df['hours_elapsed'] = (so_df['answer_date'] - so_df['question_date']).astype('timedelta64[h]')"
   ]
  },
  {
   "cell_type": "code",
   "execution_count": 6,
   "metadata": {},
   "outputs": [
    {
     "data": {
      "text/html": [
       "<div>\n",
       "<style scoped>\n",
       "    .dataframe tbody tr th:only-of-type {\n",
       "        vertical-align: middle;\n",
       "    }\n",
       "\n",
       "    .dataframe tbody tr th {\n",
       "        vertical-align: top;\n",
       "    }\n",
       "\n",
       "    .dataframe thead th {\n",
       "        text-align: right;\n",
       "    }\n",
       "</style>\n",
       "<table border=\"1\" class=\"dataframe\">\n",
       "  <thead>\n",
       "    <tr style=\"text-align: right;\">\n",
       "      <th></th>\n",
       "      <th>title_length</th>\n",
       "      <th>question_length</th>\n",
       "      <th>accepted_answer_id</th>\n",
       "      <th>tags_length</th>\n",
       "      <th>view_count</th>\n",
       "      <th>hours_elapsed</th>\n",
       "    </tr>\n",
       "  </thead>\n",
       "  <tbody>\n",
       "    <tr>\n",
       "      <th>count</th>\n",
       "      <td>16000.00000</td>\n",
       "      <td>16000.000000</td>\n",
       "      <td>1.600000e+04</td>\n",
       "      <td>16000.000000</td>\n",
       "      <td>16000.000000</td>\n",
       "      <td>16000.000000</td>\n",
       "    </tr>\n",
       "    <tr>\n",
       "      <th>mean</th>\n",
       "      <td>53.55025</td>\n",
       "      <td>1403.499188</td>\n",
       "      <td>3.190319e+07</td>\n",
       "      <td>24.946375</td>\n",
       "      <td>1418.257312</td>\n",
       "      <td>167.613313</td>\n",
       "    </tr>\n",
       "    <tr>\n",
       "      <th>std</th>\n",
       "      <td>20.37151</td>\n",
       "      <td>1714.626442</td>\n",
       "      <td>1.675979e+07</td>\n",
       "      <td>14.100702</td>\n",
       "      <td>6051.375412</td>\n",
       "      <td>1428.473559</td>\n",
       "    </tr>\n",
       "    <tr>\n",
       "      <th>min</th>\n",
       "      <td>15.00000</td>\n",
       "      <td>39.000000</td>\n",
       "      <td>6.192000e+03</td>\n",
       "      <td>1.000000</td>\n",
       "      <td>9.000000</td>\n",
       "      <td>0.000000</td>\n",
       "    </tr>\n",
       "    <tr>\n",
       "      <th>25%</th>\n",
       "      <td>39.00000</td>\n",
       "      <td>545.000000</td>\n",
       "      <td>1.793041e+07</td>\n",
       "      <td>14.000000</td>\n",
       "      <td>65.000000</td>\n",
       "      <td>0.000000</td>\n",
       "    </tr>\n",
       "    <tr>\n",
       "      <th>50%</th>\n",
       "      <td>50.00000</td>\n",
       "      <td>933.000000</td>\n",
       "      <td>3.177832e+07</td>\n",
       "      <td>23.000000</td>\n",
       "      <td>283.000000</td>\n",
       "      <td>0.000000</td>\n",
       "    </tr>\n",
       "    <tr>\n",
       "      <th>75%</th>\n",
       "      <td>65.00000</td>\n",
       "      <td>1636.000000</td>\n",
       "      <td>4.497400e+07</td>\n",
       "      <td>34.000000</td>\n",
       "      <td>912.750000</td>\n",
       "      <td>5.000000</td>\n",
       "    </tr>\n",
       "    <tr>\n",
       "      <th>max</th>\n",
       "      <td>150.00000</td>\n",
       "      <td>34938.000000</td>\n",
       "      <td>6.516455e+07</td>\n",
       "      <td>91.000000</td>\n",
       "      <td>259890.000000</td>\n",
       "      <td>51670.000000</td>\n",
       "    </tr>\n",
       "  </tbody>\n",
       "</table>\n",
       "</div>"
      ],
      "text/plain": [
       "       title_length  question_length  accepted_answer_id   tags_length  \\\n",
       "count   16000.00000     16000.000000        1.600000e+04  16000.000000   \n",
       "mean       53.55025      1403.499188        3.190319e+07     24.946375   \n",
       "std        20.37151      1714.626442        1.675979e+07     14.100702   \n",
       "min        15.00000        39.000000        6.192000e+03      1.000000   \n",
       "25%        39.00000       545.000000        1.793041e+07     14.000000   \n",
       "50%        50.00000       933.000000        3.177832e+07     23.000000   \n",
       "75%        65.00000      1636.000000        4.497400e+07     34.000000   \n",
       "max       150.00000     34938.000000        6.516455e+07     91.000000   \n",
       "\n",
       "          view_count  hours_elapsed  \n",
       "count   16000.000000   16000.000000  \n",
       "mean     1418.257312     167.613313  \n",
       "std      6051.375412    1428.473559  \n",
       "min         9.000000       0.000000  \n",
       "25%        65.000000       0.000000  \n",
       "50%       283.000000       0.000000  \n",
       "75%       912.750000       5.000000  \n",
       "max    259890.000000   51670.000000  "
      ]
     },
     "execution_count": 6,
     "metadata": {},
     "output_type": "execute_result"
    }
   ],
   "source": [
    "so_df.describe()"
   ]
  },
  {
   "cell_type": "markdown",
   "metadata": {},
   "source": [
    "## Initial observations\n",
    "We can see that the average response time in stackoverflow, regardless of the platform or programming language, is about 6 days.\n",
    "The largest time taken to respond was 2,152 days or equivalent to almost 6 years. It's important to notice that the time taken between\n",
    "responses is due to the qualification of the answer being a valid one. There is possibility that the question already had several responses\n",
    "but none of which were considered valid."
   ]
  },
  {
   "cell_type": "markdown",
   "metadata": {},
   "source": [
    "## Most famous languages / frameworks\n",
    "We will gather the top 10 most asked/answered frameworks in order to reduce our number of categories."
   ]
  },
  {
   "cell_type": "code",
   "execution_count": 7,
   "metadata": {},
   "outputs": [
    {
     "name": "stderr",
     "output_type": "stream",
     "text": [
      "<ipython-input-7-9c80f168b0ce>:1: FutureWarning: The default value of regex will change from True to False in a future version. In addition, single character regular expressions will*not* be treated as literal strings when regex=True.\n",
      "  so_df['tags'] = so_df['tags'].str.replace('|',' ')\n"
     ]
    }
   ],
   "source": [
    "so_df['tags'] = so_df['tags'].str.replace('|',' ')"
   ]
  },
  {
   "cell_type": "markdown",
   "metadata": {},
   "source": [
    "We separate the tags in order to analyze by words"
   ]
  },
  {
   "cell_type": "code",
   "execution_count": 8,
   "metadata": {},
   "outputs": [
    {
     "data": {
      "text/html": [
       "<div>\n",
       "<style scoped>\n",
       "    .dataframe tbody tr th:only-of-type {\n",
       "        vertical-align: middle;\n",
       "    }\n",
       "\n",
       "    .dataframe tbody tr th {\n",
       "        vertical-align: top;\n",
       "    }\n",
       "\n",
       "    .dataframe thead th {\n",
       "        text-align: right;\n",
       "    }\n",
       "</style>\n",
       "<table border=\"1\" class=\"dataframe\">\n",
       "  <thead>\n",
       "    <tr style=\"text-align: right;\">\n",
       "      <th></th>\n",
       "      <th>title_length</th>\n",
       "      <th>question_length</th>\n",
       "      <th>accepted_answer_id</th>\n",
       "      <th>question_date</th>\n",
       "      <th>tags</th>\n",
       "      <th>tags_length</th>\n",
       "      <th>view_count</th>\n",
       "      <th>answer_date</th>\n",
       "      <th>hours_elapsed</th>\n",
       "    </tr>\n",
       "  </thead>\n",
       "  <tbody>\n",
       "    <tr>\n",
       "      <th>0</th>\n",
       "      <td>53</td>\n",
       "      <td>2574</td>\n",
       "      <td>37738104</td>\n",
       "      <td>2016-06-09 20:10:52.550000+00:00</td>\n",
       "      <td>google-analytics drupal-7 google-tag-manager u...</td>\n",
       "      <td>80</td>\n",
       "      <td>522</td>\n",
       "      <td>2016-06-10 00:13:02.770000+00:00</td>\n",
       "      <td>4.0</td>\n",
       "    </tr>\n",
       "    <tr>\n",
       "      <th>1</th>\n",
       "      <td>27</td>\n",
       "      <td>535</td>\n",
       "      <td>37442587</td>\n",
       "      <td>2016-05-25 15:36:19.577000+00:00</td>\n",
       "      <td>sql-server ssis enterprise sql-server-data-too...</td>\n",
       "      <td>56</td>\n",
       "      <td>42</td>\n",
       "      <td>2016-05-25 16:12:18.980000+00:00</td>\n",
       "      <td>0.0</td>\n",
       "    </tr>\n",
       "    <tr>\n",
       "      <th>2</th>\n",
       "      <td>87</td>\n",
       "      <td>1946</td>\n",
       "      <td>37550734</td>\n",
       "      <td>2016-05-31 15:36:47.460000+00:00</td>\n",
       "      <td>r</td>\n",
       "      <td>1</td>\n",
       "      <td>56</td>\n",
       "      <td>2016-05-31 16:10:38.387000+00:00</td>\n",
       "      <td>0.0</td>\n",
       "    </tr>\n",
       "    <tr>\n",
       "      <th>3</th>\n",
       "      <td>53</td>\n",
       "      <td>418</td>\n",
       "      <td>37768366</td>\n",
       "      <td>2016-06-11 17:38:54.733000+00:00</td>\n",
       "      <td>api oauth google-analytics google-analytics-ap...</td>\n",
       "      <td>73</td>\n",
       "      <td>1361</td>\n",
       "      <td>2016-06-11 20:46:14.160000+00:00</td>\n",
       "      <td>3.0</td>\n",
       "    </tr>\n",
       "    <tr>\n",
       "      <th>4</th>\n",
       "      <td>57</td>\n",
       "      <td>1250</td>\n",
       "      <td>37594489</td>\n",
       "      <td>2016-05-24 09:32:21.660000+00:00</td>\n",
       "      <td>permissions file-permissions tomcat8 permissio...</td>\n",
       "      <td>77</td>\n",
       "      <td>2908</td>\n",
       "      <td>2016-06-02 14:17:18.903000+00:00</td>\n",
       "      <td>220.0</td>\n",
       "    </tr>\n",
       "  </tbody>\n",
       "</table>\n",
       "</div>"
      ],
      "text/plain": [
       "   title_length  question_length  accepted_answer_id  \\\n",
       "0            53             2574            37738104   \n",
       "1            27              535            37442587   \n",
       "2            87             1946            37550734   \n",
       "3            53              418            37768366   \n",
       "4            57             1250            37594489   \n",
       "\n",
       "                     question_date  \\\n",
       "0 2016-06-09 20:10:52.550000+00:00   \n",
       "1 2016-05-25 15:36:19.577000+00:00   \n",
       "2 2016-05-31 15:36:47.460000+00:00   \n",
       "3 2016-06-11 17:38:54.733000+00:00   \n",
       "4 2016-05-24 09:32:21.660000+00:00   \n",
       "\n",
       "                                                tags  tags_length  view_count  \\\n",
       "0  google-analytics drupal-7 google-tag-manager u...           80         522   \n",
       "1  sql-server ssis enterprise sql-server-data-too...           56          42   \n",
       "2                                                  r            1          56   \n",
       "3  api oauth google-analytics google-analytics-ap...           73        1361   \n",
       "4  permissions file-permissions tomcat8 permissio...           77        2908   \n",
       "\n",
       "                       answer_date  hours_elapsed  \n",
       "0 2016-06-10 00:13:02.770000+00:00            4.0  \n",
       "1 2016-05-25 16:12:18.980000+00:00            0.0  \n",
       "2 2016-05-31 16:10:38.387000+00:00            0.0  \n",
       "3 2016-06-11 20:46:14.160000+00:00            3.0  \n",
       "4 2016-06-02 14:17:18.903000+00:00          220.0  "
      ]
     },
     "execution_count": 8,
     "metadata": {},
     "output_type": "execute_result"
    }
   ],
   "source": [
    "so_df.head()"
   ]
  },
  {
   "cell_type": "code",
   "execution_count": 9,
   "metadata": {},
   "outputs": [],
   "source": [
    "top_programs = so_df['tags'].str.split(expand=True).stack().value_counts()"
   ]
  },
  {
   "cell_type": "code",
   "execution_count": 10,
   "metadata": {},
   "outputs": [
    {
     "data": {
      "text/plain": [
       "Index(['javascript', 'java', 'python', 'c#', 'android', 'php', 'jquery',\n",
       "       'html', 'css', 'ios'],\n",
       "      dtype='object')"
      ]
     },
     "execution_count": 10,
     "metadata": {},
     "output_type": "execute_result"
    }
   ],
   "source": [
    "top_programs.index[0:10]"
   ]
  },
  {
   "cell_type": "markdown",
   "metadata": {},
   "source": [
    "## Getting the language label"
   ]
  },
  {
   "cell_type": "code",
   "execution_count": 11,
   "metadata": {},
   "outputs": [],
   "source": [
    "so_df['language'] = so_df['tags'].str.split().str.get(0)"
   ]
  },
  {
   "cell_type": "markdown",
   "metadata": {},
   "source": [
    "To simplify our analysis, we decide to filter out any other languages/frameworks not found in the top 10."
   ]
  },
  {
   "cell_type": "code",
   "execution_count": 12,
   "metadata": {},
   "outputs": [],
   "source": [
    "strings_to_match = np.array(top_programs.index[0:10])\n",
    "\n",
    "match_pattern = fr\"\\b(?:{'|'.join(strings_to_match)})\\b\"  # \"\\b(?:app|he)\\b\"\n",
    "\n",
    "so_df['language_final'] = so_df['language'].str.contains(match_pattern, case=True)"
   ]
  },
  {
   "cell_type": "code",
   "execution_count": 13,
   "metadata": {},
   "outputs": [
    {
     "data": {
      "text/html": [
       "<div>\n",
       "<style scoped>\n",
       "    .dataframe tbody tr th:only-of-type {\n",
       "        vertical-align: middle;\n",
       "    }\n",
       "\n",
       "    .dataframe tbody tr th {\n",
       "        vertical-align: top;\n",
       "    }\n",
       "\n",
       "    .dataframe thead th {\n",
       "        text-align: right;\n",
       "    }\n",
       "</style>\n",
       "<table border=\"1\" class=\"dataframe\">\n",
       "  <thead>\n",
       "    <tr style=\"text-align: right;\">\n",
       "      <th></th>\n",
       "      <th>title_length</th>\n",
       "      <th>question_length</th>\n",
       "      <th>accepted_answer_id</th>\n",
       "      <th>question_date</th>\n",
       "      <th>tags</th>\n",
       "      <th>tags_length</th>\n",
       "      <th>view_count</th>\n",
       "      <th>answer_date</th>\n",
       "      <th>hours_elapsed</th>\n",
       "      <th>language</th>\n",
       "      <th>language_final</th>\n",
       "    </tr>\n",
       "  </thead>\n",
       "  <tbody>\n",
       "    <tr>\n",
       "      <th>0</th>\n",
       "      <td>53</td>\n",
       "      <td>2574</td>\n",
       "      <td>37738104</td>\n",
       "      <td>2016-06-09 20:10:52.550000+00:00</td>\n",
       "      <td>google-analytics drupal-7 google-tag-manager u...</td>\n",
       "      <td>80</td>\n",
       "      <td>522</td>\n",
       "      <td>2016-06-10 00:13:02.770000+00:00</td>\n",
       "      <td>4.0</td>\n",
       "      <td>google-analytics</td>\n",
       "      <td>False</td>\n",
       "    </tr>\n",
       "    <tr>\n",
       "      <th>1</th>\n",
       "      <td>27</td>\n",
       "      <td>535</td>\n",
       "      <td>37442587</td>\n",
       "      <td>2016-05-25 15:36:19.577000+00:00</td>\n",
       "      <td>sql-server ssis enterprise sql-server-data-too...</td>\n",
       "      <td>56</td>\n",
       "      <td>42</td>\n",
       "      <td>2016-05-25 16:12:18.980000+00:00</td>\n",
       "      <td>0.0</td>\n",
       "      <td>sql-server</td>\n",
       "      <td>False</td>\n",
       "    </tr>\n",
       "    <tr>\n",
       "      <th>2</th>\n",
       "      <td>87</td>\n",
       "      <td>1946</td>\n",
       "      <td>37550734</td>\n",
       "      <td>2016-05-31 15:36:47.460000+00:00</td>\n",
       "      <td>r</td>\n",
       "      <td>1</td>\n",
       "      <td>56</td>\n",
       "      <td>2016-05-31 16:10:38.387000+00:00</td>\n",
       "      <td>0.0</td>\n",
       "      <td>r</td>\n",
       "      <td>False</td>\n",
       "    </tr>\n",
       "    <tr>\n",
       "      <th>3</th>\n",
       "      <td>53</td>\n",
       "      <td>418</td>\n",
       "      <td>37768366</td>\n",
       "      <td>2016-06-11 17:38:54.733000+00:00</td>\n",
       "      <td>api oauth google-analytics google-analytics-ap...</td>\n",
       "      <td>73</td>\n",
       "      <td>1361</td>\n",
       "      <td>2016-06-11 20:46:14.160000+00:00</td>\n",
       "      <td>3.0</td>\n",
       "      <td>api</td>\n",
       "      <td>False</td>\n",
       "    </tr>\n",
       "    <tr>\n",
       "      <th>4</th>\n",
       "      <td>57</td>\n",
       "      <td>1250</td>\n",
       "      <td>37594489</td>\n",
       "      <td>2016-05-24 09:32:21.660000+00:00</td>\n",
       "      <td>permissions file-permissions tomcat8 permissio...</td>\n",
       "      <td>77</td>\n",
       "      <td>2908</td>\n",
       "      <td>2016-06-02 14:17:18.903000+00:00</td>\n",
       "      <td>220.0</td>\n",
       "      <td>permissions</td>\n",
       "      <td>False</td>\n",
       "    </tr>\n",
       "  </tbody>\n",
       "</table>\n",
       "</div>"
      ],
      "text/plain": [
       "   title_length  question_length  accepted_answer_id  \\\n",
       "0            53             2574            37738104   \n",
       "1            27              535            37442587   \n",
       "2            87             1946            37550734   \n",
       "3            53              418            37768366   \n",
       "4            57             1250            37594489   \n",
       "\n",
       "                     question_date  \\\n",
       "0 2016-06-09 20:10:52.550000+00:00   \n",
       "1 2016-05-25 15:36:19.577000+00:00   \n",
       "2 2016-05-31 15:36:47.460000+00:00   \n",
       "3 2016-06-11 17:38:54.733000+00:00   \n",
       "4 2016-05-24 09:32:21.660000+00:00   \n",
       "\n",
       "                                                tags  tags_length  view_count  \\\n",
       "0  google-analytics drupal-7 google-tag-manager u...           80         522   \n",
       "1  sql-server ssis enterprise sql-server-data-too...           56          42   \n",
       "2                                                  r            1          56   \n",
       "3  api oauth google-analytics google-analytics-ap...           73        1361   \n",
       "4  permissions file-permissions tomcat8 permissio...           77        2908   \n",
       "\n",
       "                       answer_date  hours_elapsed          language  \\\n",
       "0 2016-06-10 00:13:02.770000+00:00            4.0  google-analytics   \n",
       "1 2016-05-25 16:12:18.980000+00:00            0.0        sql-server   \n",
       "2 2016-05-31 16:10:38.387000+00:00            0.0                 r   \n",
       "3 2016-06-11 20:46:14.160000+00:00            3.0               api   \n",
       "4 2016-06-02 14:17:18.903000+00:00          220.0       permissions   \n",
       "\n",
       "   language_final  \n",
       "0           False  \n",
       "1           False  \n",
       "2           False  \n",
       "3           False  \n",
       "4           False  "
      ]
     },
     "execution_count": 13,
     "metadata": {},
     "output_type": "execute_result"
    }
   ],
   "source": [
    "so_df.head()"
   ]
  },
  {
   "cell_type": "code",
   "execution_count": 14,
   "metadata": {},
   "outputs": [],
   "source": [
    "so_df = so_df[so_df['language_final'] != False]"
   ]
  },
  {
   "cell_type": "code",
   "execution_count": 15,
   "metadata": {},
   "outputs": [
    {
     "data": {
      "text/plain": [
       "(6923, 11)"
      ]
     },
     "execution_count": 15,
     "metadata": {},
     "output_type": "execute_result"
    }
   ],
   "source": [
    "so_df.shape"
   ]
  },
  {
   "cell_type": "markdown",
   "metadata": {},
   "source": [
    "Of the original 16,000 rows, we are now left with 6,923."
   ]
  },
  {
   "cell_type": "markdown",
   "metadata": {},
   "source": [
    "## Getting length of tags"
   ]
  },
  {
   "cell_type": "code",
   "execution_count": 16,
   "metadata": {},
   "outputs": [],
   "source": [
    "so_df['n_tags'] = so_df['tags'].str.split().str.len()"
   ]
  },
  {
   "cell_type": "code",
   "execution_count": 17,
   "metadata": {},
   "outputs": [
    {
     "data": {
      "text/html": [
       "<div>\n",
       "<style scoped>\n",
       "    .dataframe tbody tr th:only-of-type {\n",
       "        vertical-align: middle;\n",
       "    }\n",
       "\n",
       "    .dataframe tbody tr th {\n",
       "        vertical-align: top;\n",
       "    }\n",
       "\n",
       "    .dataframe thead th {\n",
       "        text-align: right;\n",
       "    }\n",
       "</style>\n",
       "<table border=\"1\" class=\"dataframe\">\n",
       "  <thead>\n",
       "    <tr style=\"text-align: right;\">\n",
       "      <th></th>\n",
       "      <th>title_length</th>\n",
       "      <th>question_length</th>\n",
       "      <th>accepted_answer_id</th>\n",
       "      <th>question_date</th>\n",
       "      <th>tags</th>\n",
       "      <th>tags_length</th>\n",
       "      <th>view_count</th>\n",
       "      <th>answer_date</th>\n",
       "      <th>hours_elapsed</th>\n",
       "      <th>language</th>\n",
       "      <th>language_final</th>\n",
       "      <th>n_tags</th>\n",
       "    </tr>\n",
       "  </thead>\n",
       "  <tbody>\n",
       "    <tr>\n",
       "      <th>6</th>\n",
       "      <td>74</td>\n",
       "      <td>1599</td>\n",
       "      <td>37775015</td>\n",
       "      <td>2016-06-12 13:41:09.847000+00:00</td>\n",
       "      <td>javascript jquery asp.net-mvc-3 checkbox neste...</td>\n",
       "      <td>58</td>\n",
       "      <td>608</td>\n",
       "      <td>2016-06-12 13:50:50.823000+00:00</td>\n",
       "      <td>0.0</td>\n",
       "      <td>javascript</td>\n",
       "      <td>True</td>\n",
       "      <td>5</td>\n",
       "    </tr>\n",
       "    <tr>\n",
       "      <th>15</th>\n",
       "      <td>75</td>\n",
       "      <td>264</td>\n",
       "      <td>20565673</td>\n",
       "      <td>2013-12-13 11:41:08.227000+00:00</td>\n",
       "      <td>ios objective-c properties uiviewcontroller ui...</td>\n",
       "      <td>55</td>\n",
       "      <td>56</td>\n",
       "      <td>2013-12-13 11:42:08.783000+00:00</td>\n",
       "      <td>0.0</td>\n",
       "      <td>ios</td>\n",
       "      <td>True</td>\n",
       "      <td>5</td>\n",
       "    </tr>\n",
       "    <tr>\n",
       "      <th>16</th>\n",
       "      <td>33</td>\n",
       "      <td>3280</td>\n",
       "      <td>20528066</td>\n",
       "      <td>2013-12-09 14:31:25.113000+00:00</td>\n",
       "      <td>php cakephp localization cakephp-2.4 cakephp-r...</td>\n",
       "      <td>52</td>\n",
       "      <td>1128</td>\n",
       "      <td>2013-12-11 19:18:56.607000+00:00</td>\n",
       "      <td>52.0</td>\n",
       "      <td>php</td>\n",
       "      <td>True</td>\n",
       "      <td>5</td>\n",
       "    </tr>\n",
       "    <tr>\n",
       "      <th>20</th>\n",
       "      <td>31</td>\n",
       "      <td>1876</td>\n",
       "      <td>20744094</td>\n",
       "      <td>2013-12-19 10:26:57.397000+00:00</td>\n",
       "      <td>java debugging encryption reverse-engineering ...</td>\n",
       "      <td>59</td>\n",
       "      <td>115</td>\n",
       "      <td>2013-12-23 12:57:15.753000+00:00</td>\n",
       "      <td>98.0</td>\n",
       "      <td>java</td>\n",
       "      <td>True</td>\n",
       "      <td>5</td>\n",
       "    </tr>\n",
       "    <tr>\n",
       "      <th>24</th>\n",
       "      <td>103</td>\n",
       "      <td>3704</td>\n",
       "      <td>64998625</td>\n",
       "      <td>2020-11-24 23:08:59.670000+00:00</td>\n",
       "      <td>python pandas latitude-longitude nearest-neigh...</td>\n",
       "      <td>55</td>\n",
       "      <td>27</td>\n",
       "      <td>2020-11-25 04:39:24.253000+00:00</td>\n",
       "      <td>5.0</td>\n",
       "      <td>python</td>\n",
       "      <td>True</td>\n",
       "      <td>5</td>\n",
       "    </tr>\n",
       "  </tbody>\n",
       "</table>\n",
       "</div>"
      ],
      "text/plain": [
       "    title_length  question_length  accepted_answer_id  \\\n",
       "6             74             1599            37775015   \n",
       "15            75              264            20565673   \n",
       "16            33             3280            20528066   \n",
       "20            31             1876            20744094   \n",
       "24           103             3704            64998625   \n",
       "\n",
       "                      question_date  \\\n",
       "6  2016-06-12 13:41:09.847000+00:00   \n",
       "15 2013-12-13 11:41:08.227000+00:00   \n",
       "16 2013-12-09 14:31:25.113000+00:00   \n",
       "20 2013-12-19 10:26:57.397000+00:00   \n",
       "24 2020-11-24 23:08:59.670000+00:00   \n",
       "\n",
       "                                                 tags  tags_length  \\\n",
       "6   javascript jquery asp.net-mvc-3 checkbox neste...           58   \n",
       "15  ios objective-c properties uiviewcontroller ui...           55   \n",
       "16  php cakephp localization cakephp-2.4 cakephp-r...           52   \n",
       "20  java debugging encryption reverse-engineering ...           59   \n",
       "24  python pandas latitude-longitude nearest-neigh...           55   \n",
       "\n",
       "    view_count                      answer_date  hours_elapsed    language  \\\n",
       "6          608 2016-06-12 13:50:50.823000+00:00            0.0  javascript   \n",
       "15          56 2013-12-13 11:42:08.783000+00:00            0.0         ios   \n",
       "16        1128 2013-12-11 19:18:56.607000+00:00           52.0         php   \n",
       "20         115 2013-12-23 12:57:15.753000+00:00           98.0        java   \n",
       "24          27 2020-11-25 04:39:24.253000+00:00            5.0      python   \n",
       "\n",
       "    language_final  n_tags  \n",
       "6             True       5  \n",
       "15            True       5  \n",
       "16            True       5  \n",
       "20            True       5  \n",
       "24            True       5  "
      ]
     },
     "execution_count": 17,
     "metadata": {},
     "output_type": "execute_result"
    }
   ],
   "source": [
    "so_df.head()"
   ]
  },
  {
   "cell_type": "markdown",
   "metadata": {},
   "source": [
    "## Prepare dataframe for model, dropping non relevant columns"
   ]
  },
  {
   "cell_type": "code",
   "execution_count": 18,
   "metadata": {},
   "outputs": [],
   "source": [
    "so_df.drop(['question_date', 'answer_date', 'accepted_answer_id','language_final', 'tags'], axis=1, inplace=True)"
   ]
  },
  {
   "cell_type": "markdown",
   "metadata": {},
   "source": [
    "### Encoding\n",
    "- 1 - Respondieron en un día o menos\n",
    "- 2 - Respondieron entre 1-7 días\n",
    "- 3 - Respondieron entre 1-4 semanas\n",
    "- 4 - Se tardaron más de 1 mes en responder"
   ]
  },
  {
   "cell_type": "code",
   "execution_count": 19,
   "metadata": {},
   "outputs": [
    {
     "data": {
      "text/plain": [
       "javascript                 1647\n",
       "java                       1101\n",
       "python                     1082\n",
       "php                         908\n",
       "android                     747\n",
       "ios                         450\n",
       "jquery                      358\n",
       "html                        332\n",
       "css                         144\n",
       "python-3.x                   84\n",
       "python-2.7                   21\n",
       "jquery-mobile                 5\n",
       "android-studio                5\n",
       "java-me                       4\n",
       "java-8                        3\n",
       "rx-java                       3\n",
       "xamarin.android               2\n",
       "jquery-ui                     2\n",
       "composer-php                  2\n",
       "python-sphinx                 2\n",
       "jquery-validate               1\n",
       "android-calendar              1\n",
       "spark-java                    1\n",
       "android-animation             1\n",
       "ios-simulator                 1\n",
       "android-edittext              1\n",
       "facebook-javascript-sdk       1\n",
       "css-float                     1\n",
       "mongodb-java                  1\n",
       "scala-java-interop            1\n",
       "css-position                  1\n",
       "html-table                    1\n",
       "android-pay                   1\n",
       "javascript-events             1\n",
       "android-layout                1\n",
       "google-maps-sdk-ios           1\n",
       "facebook-php-sdk              1\n",
       "react-native-android          1\n",
       "jquery-select2                1\n",
       "android-drawable              1\n",
       "python-3.5                    1\n",
       "Name: language, dtype: int64"
      ]
     },
     "execution_count": 19,
     "metadata": {},
     "output_type": "execute_result"
    }
   ],
   "source": [
    "so_df['language'].value_counts()"
   ]
  },
  {
   "cell_type": "markdown",
   "metadata": {},
   "source": [
    "## General filter\n",
    "We filter out the tags specifying specific libraries or versions, we are only interested in a general aspect what framework the user is working with. It will also facilitate our process of encoding the variables."
   ]
  },
  {
   "cell_type": "code",
   "execution_count": 20,
   "metadata": {},
   "outputs": [],
   "source": [
    "clean_df = so_df[so_df['language'].isin(strings_to_match)]"
   ]
  },
  {
   "cell_type": "code",
   "execution_count": 21,
   "metadata": {},
   "outputs": [
    {
     "data": {
      "text/plain": [
       "javascript    1647\n",
       "java          1101\n",
       "python        1082\n",
       "php            908\n",
       "android        747\n",
       "ios            450\n",
       "jquery         358\n",
       "html           332\n",
       "css            144\n",
       "Name: language, dtype: int64"
      ]
     },
     "execution_count": 21,
     "metadata": {},
     "output_type": "execute_result"
    }
   ],
   "source": [
    "clean_df['language'].value_counts()"
   ]
  },
  {
   "cell_type": "code",
   "execution_count": 22,
   "metadata": {},
   "outputs": [
    {
     "name": "stderr",
     "output_type": "stream",
     "text": [
      "<ipython-input-22-be9aa1a23e94>:4: SettingWithCopyWarning: \n",
      "A value is trying to be set on a copy of a slice from a DataFrame.\n",
      "Try using .loc[row_indexer,col_indexer] = value instead\n",
      "\n",
      "See the caveats in the documentation: https://pandas.pydata.org/pandas-docs/stable/user_guide/indexing.html#returning-a-view-versus-a-copy\n",
      "  clean_df['language_encoded'] = encoder.fit_transform(language_vector)\n"
     ]
    }
   ],
   "source": [
    "from sklearn.preprocessing import LabelEncoder\n",
    "encoder = LabelEncoder()\n",
    "language_vector = clean_df['language'].copy()\n",
    "clean_df['language_encoded'] = encoder.fit_transform(language_vector)"
   ]
  },
  {
   "cell_type": "code",
   "execution_count": 23,
   "metadata": {},
   "outputs": [
    {
     "name": "stdout",
     "output_type": "stream",
     "text": [
      "['android' 'css' 'html' 'ios' 'java' 'javascript' 'jquery' 'php' 'python']\n"
     ]
    }
   ],
   "source": [
    "print(encoder.classes_)"
   ]
  },
  {
   "cell_type": "code",
   "execution_count": 24,
   "metadata": {},
   "outputs": [
    {
     "data": {
      "text/html": [
       "<div>\n",
       "<style scoped>\n",
       "    .dataframe tbody tr th:only-of-type {\n",
       "        vertical-align: middle;\n",
       "    }\n",
       "\n",
       "    .dataframe tbody tr th {\n",
       "        vertical-align: top;\n",
       "    }\n",
       "\n",
       "    .dataframe thead th {\n",
       "        text-align: right;\n",
       "    }\n",
       "</style>\n",
       "<table border=\"1\" class=\"dataframe\">\n",
       "  <thead>\n",
       "    <tr style=\"text-align: right;\">\n",
       "      <th></th>\n",
       "      <th>title_length</th>\n",
       "      <th>question_length</th>\n",
       "      <th>tags_length</th>\n",
       "      <th>view_count</th>\n",
       "      <th>hours_elapsed</th>\n",
       "      <th>language</th>\n",
       "      <th>n_tags</th>\n",
       "      <th>language_encoded</th>\n",
       "    </tr>\n",
       "  </thead>\n",
       "  <tbody>\n",
       "    <tr>\n",
       "      <th>6</th>\n",
       "      <td>74</td>\n",
       "      <td>1599</td>\n",
       "      <td>58</td>\n",
       "      <td>608</td>\n",
       "      <td>0.0</td>\n",
       "      <td>javascript</td>\n",
       "      <td>5</td>\n",
       "      <td>5</td>\n",
       "    </tr>\n",
       "    <tr>\n",
       "      <th>15</th>\n",
       "      <td>75</td>\n",
       "      <td>264</td>\n",
       "      <td>55</td>\n",
       "      <td>56</td>\n",
       "      <td>0.0</td>\n",
       "      <td>ios</td>\n",
       "      <td>5</td>\n",
       "      <td>3</td>\n",
       "    </tr>\n",
       "    <tr>\n",
       "      <th>16</th>\n",
       "      <td>33</td>\n",
       "      <td>3280</td>\n",
       "      <td>52</td>\n",
       "      <td>1128</td>\n",
       "      <td>52.0</td>\n",
       "      <td>php</td>\n",
       "      <td>5</td>\n",
       "      <td>7</td>\n",
       "    </tr>\n",
       "    <tr>\n",
       "      <th>20</th>\n",
       "      <td>31</td>\n",
       "      <td>1876</td>\n",
       "      <td>59</td>\n",
       "      <td>115</td>\n",
       "      <td>98.0</td>\n",
       "      <td>java</td>\n",
       "      <td>5</td>\n",
       "      <td>4</td>\n",
       "    </tr>\n",
       "    <tr>\n",
       "      <th>24</th>\n",
       "      <td>103</td>\n",
       "      <td>3704</td>\n",
       "      <td>55</td>\n",
       "      <td>27</td>\n",
       "      <td>5.0</td>\n",
       "      <td>python</td>\n",
       "      <td>5</td>\n",
       "      <td>8</td>\n",
       "    </tr>\n",
       "  </tbody>\n",
       "</table>\n",
       "</div>"
      ],
      "text/plain": [
       "    title_length  question_length  tags_length  view_count  hours_elapsed  \\\n",
       "6             74             1599           58         608            0.0   \n",
       "15            75              264           55          56            0.0   \n",
       "16            33             3280           52        1128           52.0   \n",
       "20            31             1876           59         115           98.0   \n",
       "24           103             3704           55          27            5.0   \n",
       "\n",
       "      language  n_tags  language_encoded  \n",
       "6   javascript       5                 5  \n",
       "15         ios       5                 3  \n",
       "16         php       5                 7  \n",
       "20        java       5                 4  \n",
       "24      python       5                 8  "
      ]
     },
     "execution_count": 24,
     "metadata": {},
     "output_type": "execute_result"
    }
   ],
   "source": [
    "clean_df.head()"
   ]
  },
  {
   "cell_type": "markdown",
   "metadata": {},
   "source": [
    "## Prepare dataset for model\n",
    "We remove the language column and hours_elapsed as they will not be part of our analysis."
   ]
  },
  {
   "cell_type": "code",
   "execution_count": 25,
   "metadata": {},
   "outputs": [
    {
     "name": "stderr",
     "output_type": "stream",
     "text": [
      "C:\\Users\\hansr\\Documents\\UFM\\A4_S7\\Machine_Learning_Models\\mlm_env\\lib\\site-packages\\pandas\\core\\frame.py:4305: SettingWithCopyWarning: \n",
      "A value is trying to be set on a copy of a slice from a DataFrame\n",
      "\n",
      "See the caveats in the documentation: https://pandas.pydata.org/pandas-docs/stable/user_guide/indexing.html#returning-a-view-versus-a-copy\n",
      "  return super().drop(\n"
     ]
    }
   ],
   "source": [
    "clean_df.drop('language', axis=1, inplace=True)"
   ]
  },
  {
   "cell_type": "code",
   "execution_count": 26,
   "metadata": {},
   "outputs": [
    {
     "data": {
      "text/html": [
       "<div>\n",
       "<style scoped>\n",
       "    .dataframe tbody tr th:only-of-type {\n",
       "        vertical-align: middle;\n",
       "    }\n",
       "\n",
       "    .dataframe tbody tr th {\n",
       "        vertical-align: top;\n",
       "    }\n",
       "\n",
       "    .dataframe thead th {\n",
       "        text-align: right;\n",
       "    }\n",
       "</style>\n",
       "<table border=\"1\" class=\"dataframe\">\n",
       "  <thead>\n",
       "    <tr style=\"text-align: right;\">\n",
       "      <th></th>\n",
       "      <th>title_length</th>\n",
       "      <th>question_length</th>\n",
       "      <th>tags_length</th>\n",
       "      <th>view_count</th>\n",
       "      <th>hours_elapsed</th>\n",
       "      <th>n_tags</th>\n",
       "      <th>language_encoded</th>\n",
       "    </tr>\n",
       "  </thead>\n",
       "  <tbody>\n",
       "    <tr>\n",
       "      <th>6</th>\n",
       "      <td>74</td>\n",
       "      <td>1599</td>\n",
       "      <td>58</td>\n",
       "      <td>608</td>\n",
       "      <td>0.0</td>\n",
       "      <td>5</td>\n",
       "      <td>5</td>\n",
       "    </tr>\n",
       "    <tr>\n",
       "      <th>15</th>\n",
       "      <td>75</td>\n",
       "      <td>264</td>\n",
       "      <td>55</td>\n",
       "      <td>56</td>\n",
       "      <td>0.0</td>\n",
       "      <td>5</td>\n",
       "      <td>3</td>\n",
       "    </tr>\n",
       "    <tr>\n",
       "      <th>16</th>\n",
       "      <td>33</td>\n",
       "      <td>3280</td>\n",
       "      <td>52</td>\n",
       "      <td>1128</td>\n",
       "      <td>52.0</td>\n",
       "      <td>5</td>\n",
       "      <td>7</td>\n",
       "    </tr>\n",
       "    <tr>\n",
       "      <th>20</th>\n",
       "      <td>31</td>\n",
       "      <td>1876</td>\n",
       "      <td>59</td>\n",
       "      <td>115</td>\n",
       "      <td>98.0</td>\n",
       "      <td>5</td>\n",
       "      <td>4</td>\n",
       "    </tr>\n",
       "    <tr>\n",
       "      <th>24</th>\n",
       "      <td>103</td>\n",
       "      <td>3704</td>\n",
       "      <td>55</td>\n",
       "      <td>27</td>\n",
       "      <td>5.0</td>\n",
       "      <td>5</td>\n",
       "      <td>8</td>\n",
       "    </tr>\n",
       "  </tbody>\n",
       "</table>\n",
       "</div>"
      ],
      "text/plain": [
       "    title_length  question_length  tags_length  view_count  hours_elapsed  \\\n",
       "6             74             1599           58         608            0.0   \n",
       "15            75              264           55          56            0.0   \n",
       "16            33             3280           52        1128           52.0   \n",
       "20            31             1876           59         115           98.0   \n",
       "24           103             3704           55          27            5.0   \n",
       "\n",
       "    n_tags  language_encoded  \n",
       "6        5                 5  \n",
       "15       5                 3  \n",
       "16       5                 7  \n",
       "20       5                 4  \n",
       "24       5                 8  "
      ]
     },
     "execution_count": 26,
     "metadata": {},
     "output_type": "execute_result"
    }
   ],
   "source": [
    "clean_df.head()"
   ]
  },
  {
   "cell_type": "markdown",
   "metadata": {},
   "source": [
    "## Normality Test"
   ]
  },
  {
   "cell_type": "code",
   "execution_count": 27,
   "metadata": {},
   "outputs": [
    {
     "data": {
      "text/plain": [
       "array([[<AxesSubplot:title={'center':'title_length'}>,\n",
       "        <AxesSubplot:title={'center':'question_length'}>,\n",
       "        <AxesSubplot:title={'center':'tags_length'}>],\n",
       "       [<AxesSubplot:title={'center':'view_count'}>,\n",
       "        <AxesSubplot:title={'center':'hours_elapsed'}>,\n",
       "        <AxesSubplot:title={'center':'n_tags'}>],\n",
       "       [<AxesSubplot:title={'center':'language_encoded'}>,\n",
       "        <AxesSubplot:>, <AxesSubplot:>]], dtype=object)"
      ]
     },
     "execution_count": 27,
     "metadata": {},
     "output_type": "execute_result"
    },
    {
     "data": {
      "image/png": "[encoded data removed]",
      "text/plain": [
       "<Figure size 1080x1224 with 9 Axes>"
      ]
     },
     "metadata": {
      "needs_background": "light"
     },
     "output_type": "display_data"
    }
   ],
   "source": [
    "clean_df.hist(figsize=(15,17))"
   ]
  },
  {
   "cell_type": "markdown",
   "metadata": {},
   "source": [
    "We can see that view_count, question_length and hours_elapsed have the most skew out of all of the columns."
   ]
  },
  {
   "cell_type": "markdown",
   "metadata": {},
   "source": [
    "# Correlation Analysis"
   ]
  },
  {
   "cell_type": "code",
   "execution_count": 28,
   "metadata": {},
   "outputs": [
    {
     "data": {
      "image/png": "[encoded data removed]",
      "text/plain": [
       "<Figure size 432x288 with 2 Axes>"
      ]
     },
     "metadata": {
      "needs_background": "light"
     },
     "output_type": "display_data"
    }
   ],
   "source": [
    "ax = sns.heatmap(clean_df.corr(),vmin=-1,vmax=1,cmap='seismic')"
   ]
  },
  {
   "cell_type": "markdown",
   "metadata": {},
   "source": [
    "Our features have little to no correlation at all towards the programming language that is being predicted. In the case of question_length and tags_length it has a negative correlation"
   ]
  },
  {
   "cell_type": "markdown",
   "metadata": {},
   "source": [
    "# Separate features and label"
   ]
  },
  {
   "cell_type": "code",
   "execution_count": 29,
   "metadata": {},
   "outputs": [],
   "source": [
    "#y = np.log(final_df['binned_hours'].astype('int8')).values\n",
    "y = clean_df['language_encoded'].copy()\n",
    "X = clean_df.drop('language_encoded', axis = 1)"
   ]
  },
  {
   "cell_type": "code",
   "execution_count": 30,
   "metadata": {},
   "outputs": [
    {
     "data": {
      "text/html": [
       "<div>\n",
       "<style scoped>\n",
       "    .dataframe tbody tr th:only-of-type {\n",
       "        vertical-align: middle;\n",
       "    }\n",
       "\n",
       "    .dataframe tbody tr th {\n",
       "        vertical-align: top;\n",
       "    }\n",
       "\n",
       "    .dataframe thead th {\n",
       "        text-align: right;\n",
       "    }\n",
       "</style>\n",
       "<table border=\"1\" class=\"dataframe\">\n",
       "  <thead>\n",
       "    <tr style=\"text-align: right;\">\n",
       "      <th></th>\n",
       "      <th>title_length</th>\n",
       "      <th>question_length</th>\n",
       "      <th>tags_length</th>\n",
       "      <th>view_count</th>\n",
       "      <th>hours_elapsed</th>\n",
       "      <th>n_tags</th>\n",
       "    </tr>\n",
       "  </thead>\n",
       "  <tbody>\n",
       "    <tr>\n",
       "      <th>6</th>\n",
       "      <td>74</td>\n",
       "      <td>1599</td>\n",
       "      <td>58</td>\n",
       "      <td>608</td>\n",
       "      <td>0.0</td>\n",
       "      <td>5</td>\n",
       "    </tr>\n",
       "    <tr>\n",
       "      <th>15</th>\n",
       "      <td>75</td>\n",
       "      <td>264</td>\n",
       "      <td>55</td>\n",
       "      <td>56</td>\n",
       "      <td>0.0</td>\n",
       "      <td>5</td>\n",
       "    </tr>\n",
       "    <tr>\n",
       "      <th>16</th>\n",
       "      <td>33</td>\n",
       "      <td>3280</td>\n",
       "      <td>52</td>\n",
       "      <td>1128</td>\n",
       "      <td>52.0</td>\n",
       "      <td>5</td>\n",
       "    </tr>\n",
       "    <tr>\n",
       "      <th>20</th>\n",
       "      <td>31</td>\n",
       "      <td>1876</td>\n",
       "      <td>59</td>\n",
       "      <td>115</td>\n",
       "      <td>98.0</td>\n",
       "      <td>5</td>\n",
       "    </tr>\n",
       "    <tr>\n",
       "      <th>24</th>\n",
       "      <td>103</td>\n",
       "      <td>3704</td>\n",
       "      <td>55</td>\n",
       "      <td>27</td>\n",
       "      <td>5.0</td>\n",
       "      <td>5</td>\n",
       "    </tr>\n",
       "    <tr>\n",
       "      <th>...</th>\n",
       "      <td>...</td>\n",
       "      <td>...</td>\n",
       "      <td>...</td>\n",
       "      <td>...</td>\n",
       "      <td>...</td>\n",
       "      <td>...</td>\n",
       "    </tr>\n",
       "    <tr>\n",
       "      <th>15988</th>\n",
       "      <td>65</td>\n",
       "      <td>533</td>\n",
       "      <td>54</td>\n",
       "      <td>1645</td>\n",
       "      <td>0.0</td>\n",
       "      <td>4</td>\n",
       "    </tr>\n",
       "    <tr>\n",
       "      <th>15989</th>\n",
       "      <td>68</td>\n",
       "      <td>1280</td>\n",
       "      <td>54</td>\n",
       "      <td>1047</td>\n",
       "      <td>0.0</td>\n",
       "      <td>5</td>\n",
       "    </tr>\n",
       "    <tr>\n",
       "      <th>15991</th>\n",
       "      <td>38</td>\n",
       "      <td>1990</td>\n",
       "      <td>54</td>\n",
       "      <td>83</td>\n",
       "      <td>67.0</td>\n",
       "      <td>3</td>\n",
       "    </tr>\n",
       "    <tr>\n",
       "      <th>15992</th>\n",
       "      <td>83</td>\n",
       "      <td>969</td>\n",
       "      <td>54</td>\n",
       "      <td>347</td>\n",
       "      <td>0.0</td>\n",
       "      <td>4</td>\n",
       "    </tr>\n",
       "    <tr>\n",
       "      <th>15997</th>\n",
       "      <td>49</td>\n",
       "      <td>8962</td>\n",
       "      <td>54</td>\n",
       "      <td>77</td>\n",
       "      <td>0.0</td>\n",
       "      <td>5</td>\n",
       "    </tr>\n",
       "  </tbody>\n",
       "</table>\n",
       "<p>6769 rows × 6 columns</p>\n",
       "</div>"
      ],
      "text/plain": [
       "       title_length  question_length  tags_length  view_count  hours_elapsed  \\\n",
       "6                74             1599           58         608            0.0   \n",
       "15               75              264           55          56            0.0   \n",
       "16               33             3280           52        1128           52.0   \n",
       "20               31             1876           59         115           98.0   \n",
       "24              103             3704           55          27            5.0   \n",
       "...             ...              ...          ...         ...            ...   \n",
       "15988            65              533           54        1645            0.0   \n",
       "15989            68             1280           54        1047            0.0   \n",
       "15991            38             1990           54          83           67.0   \n",
       "15992            83              969           54         347            0.0   \n",
       "15997            49             8962           54          77            0.0   \n",
       "\n",
       "       n_tags  \n",
       "6           5  \n",
       "15          5  \n",
       "16          5  \n",
       "20          5  \n",
       "24          5  \n",
       "...       ...  \n",
       "15988       4  \n",
       "15989       5  \n",
       "15991       3  \n",
       "15992       4  \n",
       "15997       5  \n",
       "\n",
       "[6769 rows x 6 columns]"
      ]
     },
     "execution_count": 30,
     "metadata": {},
     "output_type": "execute_result"
    }
   ],
   "source": [
    "X"
   ]
  },
  {
   "cell_type": "code",
   "execution_count": 31,
   "metadata": {},
   "outputs": [
    {
     "data": {
      "text/html": [
       "<div>\n",
       "<style scoped>\n",
       "    .dataframe tbody tr th:only-of-type {\n",
       "        vertical-align: middle;\n",
       "    }\n",
       "\n",
       "    .dataframe tbody tr th {\n",
       "        vertical-align: top;\n",
       "    }\n",
       "\n",
       "    .dataframe thead th {\n",
       "        text-align: right;\n",
       "    }\n",
       "</style>\n",
       "<table border=\"1\" class=\"dataframe\">\n",
       "  <thead>\n",
       "    <tr style=\"text-align: right;\">\n",
       "      <th></th>\n",
       "      <th>title_length</th>\n",
       "      <th>question_length</th>\n",
       "      <th>tags_length</th>\n",
       "      <th>view_count</th>\n",
       "      <th>hours_elapsed</th>\n",
       "      <th>n_tags</th>\n",
       "    </tr>\n",
       "  </thead>\n",
       "  <tbody>\n",
       "    <tr>\n",
       "      <th>count</th>\n",
       "      <td>6769.000000</td>\n",
       "      <td>6769.000000</td>\n",
       "      <td>6769.000000</td>\n",
       "      <td>6769.000000</td>\n",
       "      <td>6769.000000</td>\n",
       "      <td>6769.000000</td>\n",
       "    </tr>\n",
       "    <tr>\n",
       "      <th>mean</th>\n",
       "      <td>53.541143</td>\n",
       "      <td>1582.148323</td>\n",
       "      <td>26.469198</td>\n",
       "      <td>1526.037672</td>\n",
       "      <td>148.742355</td>\n",
       "      <td>3.155267</td>\n",
       "    </tr>\n",
       "    <tr>\n",
       "      <th>std</th>\n",
       "      <td>20.520476</td>\n",
       "      <td>1921.864509</td>\n",
       "      <td>13.550535</td>\n",
       "      <td>6317.576516</td>\n",
       "      <td>1370.760613</td>\n",
       "      <td>1.133900</td>\n",
       "    </tr>\n",
       "    <tr>\n",
       "      <th>min</th>\n",
       "      <td>15.000000</td>\n",
       "      <td>39.000000</td>\n",
       "      <td>3.000000</td>\n",
       "      <td>10.000000</td>\n",
       "      <td>0.000000</td>\n",
       "      <td>1.000000</td>\n",
       "    </tr>\n",
       "    <tr>\n",
       "      <th>25%</th>\n",
       "      <td>39.000000</td>\n",
       "      <td>600.000000</td>\n",
       "      <td>17.000000</td>\n",
       "      <td>63.000000</td>\n",
       "      <td>0.000000</td>\n",
       "      <td>2.000000</td>\n",
       "    </tr>\n",
       "    <tr>\n",
       "      <th>50%</th>\n",
       "      <td>50.000000</td>\n",
       "      <td>1030.000000</td>\n",
       "      <td>25.000000</td>\n",
       "      <td>276.000000</td>\n",
       "      <td>0.000000</td>\n",
       "      <td>3.000000</td>\n",
       "    </tr>\n",
       "    <tr>\n",
       "      <th>75%</th>\n",
       "      <td>65.000000</td>\n",
       "      <td>1843.000000</td>\n",
       "      <td>35.000000</td>\n",
       "      <td>967.000000</td>\n",
       "      <td>2.000000</td>\n",
       "      <td>4.000000</td>\n",
       "    </tr>\n",
       "    <tr>\n",
       "      <th>max</th>\n",
       "      <td>150.000000</td>\n",
       "      <td>34938.000000</td>\n",
       "      <td>89.000000</td>\n",
       "      <td>185567.000000</td>\n",
       "      <td>44984.000000</td>\n",
       "      <td>5.000000</td>\n",
       "    </tr>\n",
       "  </tbody>\n",
       "</table>\n",
       "</div>"
      ],
      "text/plain": [
       "       title_length  question_length  tags_length     view_count  \\\n",
       "count   6769.000000      6769.000000  6769.000000    6769.000000   \n",
       "mean      53.541143      1582.148323    26.469198    1526.037672   \n",
       "std       20.520476      1921.864509    13.550535    6317.576516   \n",
       "min       15.000000        39.000000     3.000000      10.000000   \n",
       "25%       39.000000       600.000000    17.000000      63.000000   \n",
       "50%       50.000000      1030.000000    25.000000     276.000000   \n",
       "75%       65.000000      1843.000000    35.000000     967.000000   \n",
       "max      150.000000     34938.000000    89.000000  185567.000000   \n",
       "\n",
       "       hours_elapsed       n_tags  \n",
       "count    6769.000000  6769.000000  \n",
       "mean      148.742355     3.155267  \n",
       "std      1370.760613     1.133900  \n",
       "min         0.000000     1.000000  \n",
       "25%         0.000000     2.000000  \n",
       "50%         0.000000     3.000000  \n",
       "75%         2.000000     4.000000  \n",
       "max     44984.000000     5.000000  "
      ]
     },
     "execution_count": 31,
     "metadata": {},
     "output_type": "execute_result"
    }
   ],
   "source": [
    "X.describe()"
   ]
  },
  {
   "cell_type": "markdown",
   "metadata": {},
   "source": [
    "We will need to normalize our data, since our columns vary extensively in number scales and it will help us to have a better classification model afterwards."
   ]
  },
  {
   "cell_type": "code",
   "execution_count": 32,
   "metadata": {},
   "outputs": [],
   "source": [
    "from sklearn.preprocessing import StandardScaler\n",
    "scaler = StandardScaler()\n",
    "scaler.fit(X)\n",
    "X = scaler.transform(X)"
   ]
  },
  {
   "cell_type": "markdown",
   "metadata": {},
   "source": [
    "# Splitting Data"
   ]
  },
  {
   "cell_type": "code",
   "execution_count": 33,
   "metadata": {},
   "outputs": [],
   "source": [
    "from sklearn.model_selection import train_test_split\n",
    "X_train, X_test, y_train, y_test = train_test_split(X, y, test_size=0.3, random_state=42)"
   ]
  },
  {
   "cell_type": "markdown",
   "metadata": {},
   "source": [
    "# SGD Classifier\n",
    "The SGD classifier is used originally in binary classification. When its presented a multiclass problem, by default the algorithm uses the OvA strategy. We can specify the model to use the OvO method, by importing the respective library."
   ]
  },
  {
   "cell_type": "markdown",
   "metadata": {},
   "source": [
    "## OvA Strategy\n",
    "By default the SGD classifier is a OvA (One versus All) strategy"
   ]
  },
  {
   "cell_type": "code",
   "execution_count": 34,
   "metadata": {},
   "outputs": [
    {
     "data": {
      "text/plain": [
       "SGDClassifier(random_state=30)"
      ]
     },
     "execution_count": 34,
     "metadata": {},
     "output_type": "execute_result"
    }
   ],
   "source": [
    "# use a Stochastic Gradient Descent Classifier\n",
    "# by default, it fits a linear support vector machine (SVM).\n",
    "from sklearn.linear_model import SGDClassifier\n",
    "from sklearn.model_selection import cross_val_score\n",
    "from sklearn import metrics\n",
    "\n",
    "# create instance\n",
    "sgd_clf = SGDClassifier(max_iter=1000, tol=1e-3, random_state=30)\n",
    "sgd_clf.fit(X_train, y_train)"
   ]
  },
  {
   "cell_type": "code",
   "execution_count": 35,
   "metadata": {},
   "outputs": [
    {
     "data": {
      "text/plain": [
       "array([0.21940928, 0.23417722, 0.29324895, 0.26371308, 0.2257384 ,\n",
       "       0.21097046, 0.19620253, 0.20253165, 0.18816068, 0.19238901])"
      ]
     },
     "execution_count": 35,
     "metadata": {},
     "output_type": "execute_result"
    }
   ],
   "source": [
    "ova_clf_score = cross_val_score(sgd_clf, X_train, y_train, cv=10, scoring=\"accuracy\")\n",
    "ova_clf_score"
   ]
  },
  {
   "cell_type": "code",
   "execution_count": 36,
   "metadata": {},
   "outputs": [
    {
     "data": {
      "text/plain": [
       "0.22265412440566995"
      ]
     },
     "execution_count": 36,
     "metadata": {},
     "output_type": "execute_result"
    }
   ],
   "source": [
    "ova_clf_score.mean() #Score for the training data"
   ]
  },
  {
   "cell_type": "markdown",
   "metadata": {},
   "source": [
    "Our initial OvA classifier isn't performing adequately. It performs better than random guessing but we will continue with OvO to see how it performs"
   ]
  },
  {
   "cell_type": "code",
   "execution_count": 38,
   "metadata": {},
   "outputs": [],
   "source": [
    "ova_y_pred = sgd_clf.predict(X_test)\n",
    "ova_final_score = metrics.accuracy_score(y_test, ova_y_pred)"
   ]
  },
  {
   "cell_type": "code",
   "execution_count": 39,
   "metadata": {},
   "outputs": [
    {
     "name": "stdout",
     "output_type": "stream",
     "text": [
      "              precision    recall  f1-score   support\n",
      "\n",
      "           0       0.69      0.05      0.09       216\n",
      "           1       0.00      0.00      0.00        54\n",
      "           2       0.13      0.17      0.15       111\n",
      "           3       0.07      0.23      0.11       137\n",
      "           4       0.17      0.13      0.15       331\n",
      "           5       0.29      0.40      0.34       485\n",
      "           6       0.00      0.00      0.00       105\n",
      "           7       0.21      0.30      0.25       253\n",
      "           8       0.19      0.08      0.11       339\n",
      "\n",
      "    accuracy                           0.20      2031\n",
      "   macro avg       0.19      0.15      0.13      2031\n",
      "weighted avg       0.24      0.20      0.18      2031\n",
      "\n"
     ]
    },
    {
     "name": "stderr",
     "output_type": "stream",
     "text": [
      "C:\\Users\\hansr\\Documents\\UFM\\A4_S7\\Machine_Learning_Models\\mlm_env\\lib\\site-packages\\sklearn\\metrics\\_classification.py:1245: UndefinedMetricWarning: Precision and F-score are ill-defined and being set to 0.0 in labels with no predicted samples. Use `zero_division` parameter to control this behavior.\n",
      "  _warn_prf(average, modifier, msg_start, len(result))\n",
      "C:\\Users\\hansr\\Documents\\UFM\\A4_S7\\Machine_Learning_Models\\mlm_env\\lib\\site-packages\\sklearn\\metrics\\_classification.py:1245: UndefinedMetricWarning: Precision and F-score are ill-defined and being set to 0.0 in labels with no predicted samples. Use `zero_division` parameter to control this behavior.\n",
      "  _warn_prf(average, modifier, msg_start, len(result))\n",
      "C:\\Users\\hansr\\Documents\\UFM\\A4_S7\\Machine_Learning_Models\\mlm_env\\lib\\site-packages\\sklearn\\metrics\\_classification.py:1245: UndefinedMetricWarning: Precision and F-score are ill-defined and being set to 0.0 in labels with no predicted samples. Use `zero_division` parameter to control this behavior.\n",
      "  _warn_prf(average, modifier, msg_start, len(result))\n"
     ]
    }
   ],
   "source": [
    "print(metrics.classification_report(y_test,ova_y_pred))"
   ]
  },
  {
   "cell_type": "markdown",
   "metadata": {},
   "source": [
    "## OvO Strategy"
   ]
  },
  {
   "cell_type": "code",
   "execution_count": 40,
   "metadata": {},
   "outputs": [],
   "source": [
    "from sklearn.multiclass import OneVsOneClassifier\n",
    "ovo_clf = OneVsOneClassifier(SGDClassifier())"
   ]
  },
  {
   "cell_type": "code",
   "execution_count": 41,
   "metadata": {},
   "outputs": [
    {
     "data": {
      "text/plain": [
       "OneVsOneClassifier(estimator=SGDClassifier())"
      ]
     },
     "execution_count": 41,
     "metadata": {},
     "output_type": "execute_result"
    }
   ],
   "source": [
    "ovo_clf.fit(X_train, y_train)"
   ]
  },
  {
   "cell_type": "code",
   "execution_count": 42,
   "metadata": {},
   "outputs": [
    {
     "data": {
      "text/plain": [
       "array([0.30168776, 0.27848101, 0.30168776, 0.28481013, 0.2721519 ,\n",
       "       0.26371308, 0.27637131, 0.28902954, 0.2832981 , 0.31501057])"
      ]
     },
     "execution_count": 42,
     "metadata": {},
     "output_type": "execute_result"
    }
   ],
   "source": [
    "ovo_clf_score = cross_val_score(ovo_clf, X_train, y_train, cv=10, scoring=\"accuracy\")\n",
    "ovo_clf_score"
   ]
  },
  {
   "cell_type": "code",
   "execution_count": 43,
   "metadata": {},
   "outputs": [
    {
     "data": {
      "text/plain": [
       "0.2866241157527587"
      ]
     },
     "execution_count": 43,
     "metadata": {},
     "output_type": "execute_result"
    }
   ],
   "source": [
    "ovo_clf_score.mean() #Score for the training data"
   ]
  },
  {
   "cell_type": "markdown",
   "metadata": {},
   "source": [
    "Our OvA classifier works better but we can still expect better results."
   ]
  },
  {
   "cell_type": "code",
   "execution_count": 44,
   "metadata": {},
   "outputs": [],
   "source": [
    "ovo_y_pred = ovo_clf.predict(X_test)\n",
    "ovo_final_score = metrics.accuracy_score(y_test, ovo_y_pred)"
   ]
  },
  {
   "cell_type": "code",
   "execution_count": 45,
   "metadata": {},
   "outputs": [
    {
     "name": "stdout",
     "output_type": "stream",
     "text": [
      "              precision    recall  f1-score   support\n",
      "\n",
      "           0       0.31      0.29      0.30       216\n",
      "           1       0.00      0.00      0.00        54\n",
      "           2       0.00      0.00      0.00       111\n",
      "           3       0.00      0.00      0.00       137\n",
      "           4       0.24      0.09      0.13       331\n",
      "           5       0.31      0.66      0.42       485\n",
      "           6       0.00      0.00      0.00       105\n",
      "           7       0.27      0.37      0.31       253\n",
      "           8       0.23      0.24      0.23       339\n",
      "\n",
      "    accuracy                           0.29      2031\n",
      "   macro avg       0.15      0.18      0.15      2031\n",
      "weighted avg       0.22      0.29      0.23      2031\n",
      "\n"
     ]
    },
    {
     "name": "stderr",
     "output_type": "stream",
     "text": [
      "C:\\Users\\hansr\\Documents\\UFM\\A4_S7\\Machine_Learning_Models\\mlm_env\\lib\\site-packages\\sklearn\\metrics\\_classification.py:1245: UndefinedMetricWarning: Precision and F-score are ill-defined and being set to 0.0 in labels with no predicted samples. Use `zero_division` parameter to control this behavior.\n",
      "  _warn_prf(average, modifier, msg_start, len(result))\n",
      "C:\\Users\\hansr\\Documents\\UFM\\A4_S7\\Machine_Learning_Models\\mlm_env\\lib\\site-packages\\sklearn\\metrics\\_classification.py:1245: UndefinedMetricWarning: Precision and F-score are ill-defined and being set to 0.0 in labels with no predicted samples. Use `zero_division` parameter to control this behavior.\n",
      "  _warn_prf(average, modifier, msg_start, len(result))\n",
      "C:\\Users\\hansr\\Documents\\UFM\\A4_S7\\Machine_Learning_Models\\mlm_env\\lib\\site-packages\\sklearn\\metrics\\_classification.py:1245: UndefinedMetricWarning: Precision and F-score are ill-defined and being set to 0.0 in labels with no predicted samples. Use `zero_division` parameter to control this behavior.\n",
      "  _warn_prf(average, modifier, msg_start, len(result))\n"
     ]
    }
   ],
   "source": [
    "print(metrics.classification_report(y_test,ovo_y_pred))"
   ]
  },
  {
   "cell_type": "markdown",
   "metadata": {},
   "source": [
    "# Random Forest Classifier"
   ]
  },
  {
   "cell_type": "code",
   "execution_count": 46,
   "metadata": {},
   "outputs": [
    {
     "data": {
      "text/plain": [
       "RandomForestClassifier(random_state=10)"
      ]
     },
     "execution_count": 46,
     "metadata": {},
     "output_type": "execute_result"
    }
   ],
   "source": [
    "from sklearn.ensemble import RandomForestClassifier\n",
    "\n",
    "forest_clf = RandomForestClassifier(n_estimators=100, random_state=10, bootstrap=True)\n",
    "forest_clf.fit(X_train, y_train)"
   ]
  },
  {
   "cell_type": "code",
   "execution_count": 47,
   "metadata": {},
   "outputs": [
    {
     "data": {
      "text/plain": [
       "array([0.35232068, 0.32911392, 0.37341772, 0.32700422, 0.36708861,\n",
       "       0.35443038, 0.35443038, 0.29746835, 0.32769556, 0.35729387])"
      ]
     },
     "execution_count": 47,
     "metadata": {},
     "output_type": "execute_result"
    }
   ],
   "source": [
    "forest_clf_score = cross_val_score(forest_clf, X_train, y_train, cv=10, scoring=\"accuracy\")\n",
    "forest_clf_score"
   ]
  },
  {
   "cell_type": "code",
   "execution_count": 48,
   "metadata": {},
   "outputs": [
    {
     "data": {
      "text/plain": [
       "0.3440263690778851"
      ]
     },
     "execution_count": 48,
     "metadata": {},
     "output_type": "execute_result"
    }
   ],
   "source": [
    "forest_clf_score.mean() #Score for the training data"
   ]
  },
  {
   "cell_type": "markdown",
   "metadata": {},
   "source": [
    "This is a significant improvement over the previous models, however we still need to check if the KNN classifier does better."
   ]
  },
  {
   "cell_type": "code",
   "execution_count": 49,
   "metadata": {},
   "outputs": [],
   "source": [
    "forest_y_pred = forest_clf.predict(X_test)\n",
    "forest_final_score = metrics.accuracy_score(y_test, forest_y_pred)"
   ]
  },
  {
   "cell_type": "code",
   "execution_count": 50,
   "metadata": {},
   "outputs": [
    {
     "name": "stdout",
     "output_type": "stream",
     "text": [
      "              precision    recall  f1-score   support\n",
      "\n",
      "           0       0.43      0.37      0.40       216\n",
      "           1       0.29      0.04      0.07        54\n",
      "           2       0.57      0.23      0.32       111\n",
      "           3       0.11      0.04      0.06       137\n",
      "           4       0.30      0.33      0.31       331\n",
      "           5       0.37      0.59      0.45       485\n",
      "           6       0.44      0.13      0.20       105\n",
      "           7       0.32      0.38      0.35       253\n",
      "           8       0.33      0.27      0.30       339\n",
      "\n",
      "    accuracy                           0.35      2031\n",
      "   macro avg       0.35      0.26      0.27      2031\n",
      "weighted avg       0.35      0.35      0.33      2031\n",
      "\n"
     ]
    }
   ],
   "source": [
    "print(metrics.classification_report(y_test,forest_y_pred))"
   ]
  },
  {
   "cell_type": "markdown",
   "metadata": {},
   "source": [
    "# KNN Classifier"
   ]
  },
  {
   "cell_type": "code",
   "execution_count": 51,
   "metadata": {},
   "outputs": [
    {
     "data": {
      "text/plain": [
       "KNeighborsClassifier()"
      ]
     },
     "execution_count": 51,
     "metadata": {},
     "output_type": "execute_result"
    }
   ],
   "source": [
    "from sklearn.neighbors import KNeighborsClassifier\n",
    "\n",
    "knn_clf = KNeighborsClassifier()\n",
    "knn_clf.fit(X_train, y_train)"
   ]
  },
  {
   "cell_type": "code",
   "execution_count": 52,
   "metadata": {},
   "outputs": [
    {
     "data": {
      "text/plain": [
       "array([0.2742616 , 0.26582278, 0.26793249, 0.25949367, 0.24894515,\n",
       "       0.26793249, 0.25738397, 0.26371308, 0.26427061, 0.24524313])"
      ]
     },
     "execution_count": 52,
     "metadata": {},
     "output_type": "execute_result"
    }
   ],
   "source": [
    "knn_clf_score = cross_val_score(knn_clf, X_train, y_train, cv=10, scoring=\"accuracy\")\n",
    "knn_clf_score"
   ]
  },
  {
   "cell_type": "code",
   "execution_count": 56,
   "metadata": {},
   "outputs": [
    {
     "data": {
      "text/plain": [
       "0.26149989741393925"
      ]
     },
     "execution_count": 56,
     "metadata": {},
     "output_type": "execute_result"
    }
   ],
   "source": [
    "knn_clf_score.mean()"
   ]
  },
  {
   "cell_type": "markdown",
   "metadata": {},
   "source": [
    "The accuracy score remains similar to both the OvA and OvO classifiers."
   ]
  },
  {
   "cell_type": "code",
   "execution_count": 53,
   "metadata": {},
   "outputs": [],
   "source": [
    "knn_y_pred = knn_clf.predict(X_test)\n",
    "knn_final_score = metrics.accuracy_score(y_test, knn_y_pred)"
   ]
  },
  {
   "cell_type": "code",
   "execution_count": 54,
   "metadata": {},
   "outputs": [
    {
     "name": "stdout",
     "output_type": "stream",
     "text": [
      "              precision    recall  f1-score   support\n",
      "\n",
      "           0       0.26      0.38      0.31       216\n",
      "           1       0.06      0.04      0.04        54\n",
      "           2       0.19      0.17      0.18       111\n",
      "           3       0.08      0.06      0.07       137\n",
      "           4       0.23      0.24      0.23       331\n",
      "           5       0.37      0.46      0.41       485\n",
      "           6       0.12      0.06      0.08       105\n",
      "           7       0.25      0.23      0.24       253\n",
      "           8       0.24      0.18      0.21       339\n",
      "\n",
      "    accuracy                           0.27      2031\n",
      "   macro avg       0.20      0.20      0.20      2031\n",
      "weighted avg       0.25      0.27      0.25      2031\n",
      "\n"
     ]
    }
   ],
   "source": [
    "print(metrics.classification_report(y_test,knn_y_pred))"
   ]
  },
  {
   "cell_type": "code",
   "execution_count": 55,
   "metadata": {},
   "outputs": [
    {
     "name": "stdout",
     "output_type": "stream",
     "text": [
      "{'OvO': 0.2865583456425406, 'OvA': 0.19793205317577547, 'RandomForest': 0.34908911866075826, 'KNN': 0.2653865091088134}\n"
     ]
    }
   ],
   "source": [
    "models_scores = {'OvO': ovo_final_score, 'OvA': ova_final_score, 'RandomForest': forest_final_score, 'KNN': knn_final_score}\n",
    "print(models_scores)"
   ]
  },
  {
   "cell_type": "markdown",
   "metadata": {},
   "source": [
    "# Main conclusion"
   ]
  },
  {
   "cell_type": "markdown",
   "metadata": {},
   "source": [
    "The Random Forest classifier has the highest accuracy score out of the 4 models."
   ]
  }
 ],
 "metadata": {
  "kernelspec": {
   "display_name": "mlm_env",
   "language": "python",
   "name": "mlm_env"
  },
  "language_info": {
   "codemirror_mode": {
    "name": "ipython",
    "version": 3
   },
   "file_extension": ".py",
   "mimetype": "text/x-python",
   "name": "python",
   "nbconvert_exporter": "python",
   "pygments_lexer": "ipython3",
   "version": "3.8.6"
  }
 },
 "nbformat": 4,
 "nbformat_minor": 4
}
